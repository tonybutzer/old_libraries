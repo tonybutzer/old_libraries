{
 "cells": [
  {
   "cell_type": "code",
   "execution_count": 1,
   "id": "bc7584d7-43d0-4aaf-b343-0246d8d30faf",
   "metadata": {},
   "outputs": [
    {
     "name": "stdout",
     "output_type": "stream",
     "text": [
      "pangeo\n"
     ]
    }
   ],
   "source": [
    "import os\n",
    "\n",
    "conda_env = os.environ['CONDA_DEFAULT_ENV']\n",
    "print(conda_env)"
   ]
  },
  {
   "cell_type": "code",
   "execution_count": 2,
   "id": "9008be23-a035-46ed-a8ae-3229a76df64d",
   "metadata": {},
   "outputs": [
    {
     "name": "stdout",
     "output_type": "stream",
     "text": [
      "/srv/conda/envs/pangeo/bin:/srv/conda/condabin:/srv/conda/envs/pangeo/bin:/srv/conda/bin:/usr/local/sbin:/usr/local/bin:/usr/sbin:/usr/bin:/sbin:/bin\n"
     ]
    }
   ],
   "source": [
    "! echo $PATH"
   ]
  },
  {
   "cell_type": "code",
   "execution_count": 3,
   "id": "741378a7-c061-451d-8146-48e3f9bafee0",
   "metadata": {},
   "outputs": [
    {
     "name": "stdout",
     "output_type": "stream",
     "text": [
      "[ListKernelSpecs] WARNING | Config option `kernel_spec_manager_class` not recognized by `ListKernelSpecs`.\n",
      "Available kernels:\n",
      "  my-nlcd-kernel    /home/jovyan/.local/share/jupyter/kernels/my-nlcd-kernel\n",
      "  my_yak            /home/jovyan/.local/share/jupyter/kernels/my_yak\n",
      "  python3           /srv/conda/envs/pangeo/share/jupyter/kernels/python3\n"
     ]
    }
   ],
   "source": [
    "! jupyter kernelspec list"
   ]
  },
  {
   "cell_type": "code",
   "execution_count": 4,
   "id": "0180b698-3f67-48bb-99e4-193847e973de",
   "metadata": {},
   "outputs": [
    {
     "name": "stdout",
     "output_type": "stream",
     "text": [
      "{\n",
      " \"argv\": [\n",
      "  \"/home/jovyan/nlcd2/bin/python\",\n",
      "  \"-m\",\n",
      "  \"ipykernel_launcher\",\n",
      "  \"-f\",\n",
      "  \"{connection_file}\"\n",
      " ],\n",
      " \"display_name\": \"my_yak\",\n",
      " \"language\": \"python\",\n",
      " \"metadata\": {\n",
      "  \"debugger\": true\n",
      " }\n",
      "}"
     ]
    }
   ],
   "source": [
    "! cat /home/jovyan/.local/share/jupyter/kernels/my_yak/kernel.json"
   ]
  },
  {
   "cell_type": "code",
   "execution_count": null,
   "id": "f1093553-067a-44fe-9489-9009115b7140",
   "metadata": {},
   "outputs": [],
   "source": []
  },
  {
   "cell_type": "code",
   "execution_count": null,
   "id": "a7755082-7276-4c29-9ba4-0115816592a3",
   "metadata": {},
   "outputs": [],
   "source": []
  }
 ],
 "metadata": {
  "kernelspec": {
   "display_name": "my_yak",
   "language": "python",
   "name": "my_yak"
  },
  "language_info": {
   "codemirror_mode": {
    "name": "ipython",
    "version": 3
   },
   "file_extension": ".py",
   "mimetype": "text/x-python",
   "name": "python",
   "nbconvert_exporter": "python",
   "pygments_lexer": "ipython3",
   "version": "3.11.5"
  }
 },
 "nbformat": 4,
 "nbformat_minor": 5
}
