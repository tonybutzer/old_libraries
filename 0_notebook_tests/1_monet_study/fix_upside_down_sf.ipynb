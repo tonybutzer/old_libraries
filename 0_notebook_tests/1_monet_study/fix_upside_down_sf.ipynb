{
 "cells": [
  {
   "cell_type": "code",
   "execution_count": 1,
   "id": "7ac6ab31-260a-4de5-b455-c14910b786eb",
   "metadata": {},
   "outputs": [],
   "source": [
    "from os import listdir\n",
    "from os.path import isfile, join"
   ]
  },
  {
   "cell_type": "code",
   "execution_count": 2,
   "id": "7b117bd2-1623-4b2d-ad0d-a3cb06b2b56c",
   "metadata": {},
   "outputs": [],
   "source": [
    "def return_tif_tci_list(mypath):\n",
    "    #mypath='/home/ec2-user/data/imagery'\n",
    "    onlyfiles = sorted([f for f in listdir(mypath) if isfile(join(mypath, f)) and '.tif' in f])\n",
    "    return(onlyfiles)"
   ]
  },
  {
   "cell_type": "code",
   "execution_count": 3,
   "id": "e4c79351-ddfe-4066-9950-5c2fe299f665",
   "metadata": {},
   "outputs": [],
   "source": [
    "my_dest = '/home/ec2-user/data/flippery'"
   ]
  },
  {
   "cell_type": "code",
   "execution_count": 4,
   "id": "e7452eef-873d-4d13-af49-5b25418cd725",
   "metadata": {},
   "outputs": [
    {
     "data": {
      "text/plain": [
       "['20200222_14TPP_00_R10m_TCI.tif',\n",
       " '20200308_14TPP_00_R10m_TCI.tif',\n",
       " '20200407_14TPP_00_R10m_TCI.tif',\n",
       " '20200417_14TPP_00_R10m_TCI.tif',\n",
       " '20200422_14TPP_00_R10m_TCI.tif',\n",
       " '20200527_14TPP_00_R10m_TCI.tif',\n",
       " '20200601_14TPP_00_R10m_TCI.tif',\n",
       " '20200611_14TPP_00_R10m_TCI.tif',\n",
       " '20200616_14TPP_00_R10m_TCI.tif',\n",
       " '20200711_14TPP_00_R10m_TCI.tif',\n",
       " '20200716_14TPP_00_R10m_TCI.tif',\n",
       " '20200721_14TPP_00_R10m_TCI.tif',\n",
       " '20200731_14TPP_00_R10m_TCI.tif',\n",
       " '20200825_14TPP_00_R10m_TCI.tif',\n",
       " '20200830_14TPP_00_R10m_TCI.tif',\n",
       " '20200904_14TPP_00_R10m_TCI.tif',\n",
       " '20200914_14TPP_01_R10m_TCI.tif',\n",
       " '20200919_14TPP_00_R10m_TCI.tif',\n",
       " '20200924_14TPP_00_R10m_TCI.tif',\n",
       " '20200929_14TPP_00_R10m_TCI.tif',\n",
       " '20201004_14TPP_00_R10m_TCI.tif',\n",
       " '20201009_14TPP_00_R10m_TCI.tif',\n",
       " '20201029_14TPP_00_R10m_TCI.tif',\n",
       " '20201103_14TPP_00_R10m_TCI.tif',\n",
       " '20201108_14TPP_00_R10m_TCI.tif',\n",
       " '20201128_14TPP_00_R10m_TCI.tif',\n",
       " '20201208_14TPP_00_R10m_TCI.tif',\n",
       " '20201228_14TPP_00_R10m_TCI.tif']"
      ]
     },
     "execution_count": 4,
     "metadata": {},
     "output_type": "execute_result"
    }
   ],
   "source": [
    "my_dir = '/home/ec2-user/data/imagery'\n",
    "\n",
    "the_tifs = return_tif_tci_list(my_dir)\n",
    "the_tifs"
   ]
  },
  {
   "cell_type": "code",
   "execution_count": 5,
   "id": "719bc2c2-8ff3-4b70-871b-ed69816782c0",
   "metadata": {},
   "outputs": [
    {
     "data": {
      "text/plain": [
       "'/home/ec2-user/data/flippery'"
      ]
     },
     "execution_count": 5,
     "metadata": {},
     "output_type": "execute_result"
    }
   ],
   "source": [
    "my_dest"
   ]
  },
  {
   "cell_type": "code",
   "execution_count": 6,
   "id": "9b9c3a7c-7604-49cb-a0d5-e92f715fbd2d",
   "metadata": {},
   "outputs": [],
   "source": [
    "! mkdir -p '/home/ec2-user/data/flippery'"
   ]
  },
  {
   "cell_type": "code",
   "execution_count": 7,
   "id": "cb572434-fe9f-4099-9e24-509645dbda51",
   "metadata": {},
   "outputs": [
    {
     "name": "stdout",
     "output_type": "stream",
     "text": [
      "Processing /home/ec2-user/data/imagery/20200222_14TPP_00_R10m_TCI.tif [1/1] : 0Using internal nodata values (e.g. 0) for image /home/ec2-user/data/imagery/20200222_14TPP_00_R10m_TCI.tif.\n",
      "...10...20...30...40...50...60...70...80...90...100 - done.\n",
      "Processing /home/ec2-user/data/imagery/20200308_14TPP_00_R10m_TCI.tif [1/1] : 0Using internal nodata values (e.g. 0) for image /home/ec2-user/data/imagery/20200308_14TPP_00_R10m_TCI.tif.\n",
      "...10...20...30...40...50...60...70...80...90...100 - done.\n",
      "Processing /home/ec2-user/data/imagery/20200407_14TPP_00_R10m_TCI.tif [1/1] : 0Using internal nodata values (e.g. 0) for image /home/ec2-user/data/imagery/20200407_14TPP_00_R10m_TCI.tif.\n",
      "...10...20...30...40...50...60...70...80...90...100 - done.\n",
      "Processing /home/ec2-user/data/imagery/20200417_14TPP_00_R10m_TCI.tif [1/1] : 0Using internal nodata values (e.g. 0) for image /home/ec2-user/data/imagery/20200417_14TPP_00_R10m_TCI.tif.\n",
      "...10...20...30...40...50...60...70...80...90...100 - done.\n",
      "Processing /home/ec2-user/data/imagery/20200422_14TPP_00_R10m_TCI.tif [1/1] : 0Using internal nodata values (e.g. 0) for image /home/ec2-user/data/imagery/20200422_14TPP_00_R10m_TCI.tif.\n",
      "...10...20...30...40...50...60...70...80...90...100 - done.\n",
      "Processing /home/ec2-user/data/imagery/20200527_14TPP_00_R10m_TCI.tif [1/1] : 0Using internal nodata values (e.g. 0) for image /home/ec2-user/data/imagery/20200527_14TPP_00_R10m_TCI.tif.\n",
      "...10...20...30...40...50...60...70...80...90...100 - done.\n",
      "Processing /home/ec2-user/data/imagery/20200601_14TPP_00_R10m_TCI.tif [1/1] : 0Using internal nodata values (e.g. 0) for image /home/ec2-user/data/imagery/20200601_14TPP_00_R10m_TCI.tif.\n",
      "...10...20...30...40...50...60...70...80...90...100 - done.\n",
      "Processing /home/ec2-user/data/imagery/20200611_14TPP_00_R10m_TCI.tif [1/1] : 0Using internal nodata values (e.g. 0) for image /home/ec2-user/data/imagery/20200611_14TPP_00_R10m_TCI.tif.\n",
      "...10...20...30...40...50...60...70...80...90...100 - done.\n",
      "Processing /home/ec2-user/data/imagery/20200616_14TPP_00_R10m_TCI.tif [1/1] : 0Using internal nodata values (e.g. 0) for image /home/ec2-user/data/imagery/20200616_14TPP_00_R10m_TCI.tif.\n",
      "...10...20...30...40...50...60...70...80...90...100 - done.\n",
      "Processing /home/ec2-user/data/imagery/20200711_14TPP_00_R10m_TCI.tif [1/1] : 0Using internal nodata values (e.g. 0) for image /home/ec2-user/data/imagery/20200711_14TPP_00_R10m_TCI.tif.\n",
      "...10...20...30...40...50...60...70...80...90...100 - done.\n",
      "Processing /home/ec2-user/data/imagery/20200716_14TPP_00_R10m_TCI.tif [1/1] : 0Using internal nodata values (e.g. 0) for image /home/ec2-user/data/imagery/20200716_14TPP_00_R10m_TCI.tif.\n",
      "...10...20...30...40...50...60...70...80...90...100 - done.\n",
      "Processing /home/ec2-user/data/imagery/20200721_14TPP_00_R10m_TCI.tif [1/1] : 0Using internal nodata values (e.g. 0) for image /home/ec2-user/data/imagery/20200721_14TPP_00_R10m_TCI.tif.\n",
      "...10...20...30...40...50...60...70...80...90...100 - done.\n",
      "Processing /home/ec2-user/data/imagery/20200731_14TPP_00_R10m_TCI.tif [1/1] : 0Using internal nodata values (e.g. 0) for image /home/ec2-user/data/imagery/20200731_14TPP_00_R10m_TCI.tif.\n",
      "...10...20...30...40...50...60...70...80...90...100 - done.\n",
      "Processing /home/ec2-user/data/imagery/20200825_14TPP_00_R10m_TCI.tif [1/1] : 0Using internal nodata values (e.g. 0) for image /home/ec2-user/data/imagery/20200825_14TPP_00_R10m_TCI.tif.\n",
      "...10...20...30...40...50...60...70...80...90...100 - done.\n",
      "Processing /home/ec2-user/data/imagery/20200830_14TPP_00_R10m_TCI.tif [1/1] : 0Using internal nodata values (e.g. 0) for image /home/ec2-user/data/imagery/20200830_14TPP_00_R10m_TCI.tif.\n",
      "...10...20...30...40...50...60...70...80...90...100 - done.\n",
      "Processing /home/ec2-user/data/imagery/20200904_14TPP_00_R10m_TCI.tif [1/1] : 0Using internal nodata values (e.g. 0) for image /home/ec2-user/data/imagery/20200904_14TPP_00_R10m_TCI.tif.\n",
      "...10...20...30...40...50...60...70...80...90...100 - done.\n",
      "Processing /home/ec2-user/data/imagery/20200914_14TPP_01_R10m_TCI.tif [1/1] : 0Using internal nodata values (e.g. 0) for image /home/ec2-user/data/imagery/20200914_14TPP_01_R10m_TCI.tif.\n",
      "...10...20...30...40...50...60...70...80...90...100 - done.\n",
      "Processing /home/ec2-user/data/imagery/20200919_14TPP_00_R10m_TCI.tif [1/1] : 0Using internal nodata values (e.g. 0) for image /home/ec2-user/data/imagery/20200919_14TPP_00_R10m_TCI.tif.\n",
      "...10...20...30...40...50...60...70...80...90...100 - done.\n",
      "Processing /home/ec2-user/data/imagery/20200924_14TPP_00_R10m_TCI.tif [1/1] : 0Using internal nodata values (e.g. 0) for image /home/ec2-user/data/imagery/20200924_14TPP_00_R10m_TCI.tif.\n",
      "...10...20...30...40...50...60...70...80...90...100 - done.\n",
      "Processing /home/ec2-user/data/imagery/20200929_14TPP_00_R10m_TCI.tif [1/1] : 0Using internal nodata values (e.g. 0) for image /home/ec2-user/data/imagery/20200929_14TPP_00_R10m_TCI.tif.\n",
      "...10...20...30...40...50...60...70...80...90...100 - done.\n",
      "Processing /home/ec2-user/data/imagery/20201004_14TPP_00_R10m_TCI.tif [1/1] : 0Using internal nodata values (e.g. 0) for image /home/ec2-user/data/imagery/20201004_14TPP_00_R10m_TCI.tif.\n",
      "...10...20...30...40...50...60...70...80...90...100 - done.\n",
      "Processing /home/ec2-user/data/imagery/20201009_14TPP_00_R10m_TCI.tif [1/1] : 0Using internal nodata values (e.g. 0) for image /home/ec2-user/data/imagery/20201009_14TPP_00_R10m_TCI.tif.\n",
      "...10...20...30...40...50...60...70...80...90...100 - done.\n",
      "Processing /home/ec2-user/data/imagery/20201029_14TPP_00_R10m_TCI.tif [1/1] : 0Using internal nodata values (e.g. 0) for image /home/ec2-user/data/imagery/20201029_14TPP_00_R10m_TCI.tif.\n",
      "...10...20...30...40...50...60...70...80...90...100 - done.\n",
      "Processing /home/ec2-user/data/imagery/20201103_14TPP_00_R10m_TCI.tif [1/1] : 0Using internal nodata values (e.g. 0) for image /home/ec2-user/data/imagery/20201103_14TPP_00_R10m_TCI.tif.\n",
      "...10...20...30...40...50...60...70...80...90...100 - done.\n",
      "Processing /home/ec2-user/data/imagery/20201108_14TPP_00_R10m_TCI.tif [1/1] : 0Using internal nodata values (e.g. 0) for image /home/ec2-user/data/imagery/20201108_14TPP_00_R10m_TCI.tif.\n",
      "...10...20...30...40...50...60...70...80...90...100 - done.\n",
      "Processing /home/ec2-user/data/imagery/20201128_14TPP_00_R10m_TCI.tif [1/1] : 0Using internal nodata values (e.g. 0) for image /home/ec2-user/data/imagery/20201128_14TPP_00_R10m_TCI.tif.\n",
      "...10...20...30...40...50...60...70...80...90...100 - done.\n",
      "Processing /home/ec2-user/data/imagery/20201208_14TPP_00_R10m_TCI.tif [1/1] : 0Using internal nodata values (e.g. 0) for image /home/ec2-user/data/imagery/20201208_14TPP_00_R10m_TCI.tif.\n",
      "...10...20...30...40...50...60...70...80...90...100 - done.\n",
      "Processing /home/ec2-user/data/imagery/20201228_14TPP_00_R10m_TCI.tif [1/1] : 0Using internal nodata values (e.g. 0) for image /home/ec2-user/data/imagery/20201228_14TPP_00_R10m_TCI.tif.\n",
      "...10...20...30...40...50...60...70...80...90...100 - done.\n"
     ]
    }
   ],
   "source": [
    "import os\n",
    "\n",
    "for i in the_tifs:\n",
    "    cmd = f'gdalwarp {my_dir}/{i} {my_dest}/{i}'\n",
    "    os.system(cmd)"
   ]
  },
  {
   "cell_type": "code",
   "execution_count": 8,
   "id": "ac113c47-6f19-447f-a95f-d2ed65155a93",
   "metadata": {},
   "outputs": [],
   "source": [
    "#! gdalwarp /home/ec2-user/data/20200407_14TPP_00_R10m_TCI.tif sf_upright_tci.tif"
   ]
  }
 ],
 "metadata": {
  "kernelspec": {
   "display_name": "Python 3 (ipykernel)",
   "language": "python",
   "name": "python3"
  },
  "language_info": {
   "codemirror_mode": {
    "name": "ipython",
    "version": 3
   },
   "file_extension": ".py",
   "mimetype": "text/x-python",
   "name": "python",
   "nbconvert_exporter": "python",
   "pygments_lexer": "ipython3",
   "version": "3.11.5"
  }
 },
 "nbformat": 4,
 "nbformat_minor": 5
}
