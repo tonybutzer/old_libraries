{
 "cells": [
  {
   "cell_type": "code",
   "execution_count": 1,
   "id": "5e586459-741e-42d8-b208-5963aabaff46",
   "metadata": {},
   "outputs": [
    {
     "name": "stdout",
     "output_type": "stream",
     "text": [
      "libTest\n"
     ]
    }
   ],
   "source": [
    "import os\n",
    "\n",
    "conda_env = os.environ['CONDA_DEFAULT_ENV']\n",
    "print(conda_env)"
   ]
  },
  {
   "cell_type": "code",
   "execution_count": 2,
   "id": "31264a52-5313-48dc-96f1-c1d82ec545c9",
   "metadata": {},
   "outputs": [
    {
     "name": "stdout",
     "output_type": "stream",
     "text": [
      "make: *** No targets specified and no makefile found.  Stop.\n"
     ]
    }
   ],
   "source": [
    "! make"
   ]
  },
  {
   "cell_type": "code",
   "execution_count": 3,
   "id": "9fd8e983-6ffd-44f6-ab83-ea460e6408ba",
   "metadata": {},
   "outputs": [
    {
     "name": "stdout",
     "output_type": "stream",
     "text": [
      "/data/miniconda3/envs/libTest/bin/python\n"
     ]
    }
   ],
   "source": [
    "! which python"
   ]
  },
  {
   "cell_type": "code",
   "execution_count": 4,
   "id": "bb74b0d2-8610-4ac2-9516-9cba4ea781cf",
   "metadata": {},
   "outputs": [
    {
     "name": "stdout",
     "output_type": "stream",
     "text": [
      "mkdir: cannot create directory ‘/home/ec2-user/data’: File exists\n"
     ]
    }
   ],
   "source": [
    "! mkdir ~/data"
   ]
  },
  {
   "cell_type": "code",
   "execution_count": 5,
   "id": "efa92809-02c8-43a5-a9bd-bf2e89219328",
   "metadata": {},
   "outputs": [
    {
     "name": "stdout",
     "output_type": "stream",
     "text": [
      "Unable to find image 'tbutzer/monet-tool:latest' locally\n",
      "docker: Error response from daemon: manifest for tbutzer/monet-tool:latest not found: manifest unknown: manifest unknown.\n",
      "See 'docker run --help'.\n"
     ]
    }
   ],
   "source": [
    "!docker run -v /home/ec2-user/data:/home/monet/imagery -it tbutzer/monet-tool monet -y \\\n",
    "  43.49 -96.69  -c 25 -s 2020-01-01 -e 2020-12-31 -t -D --radius 10000"
   ]
  },
  {
   "cell_type": "code",
   "execution_count": 6,
   "id": "fe75dfad-cfa2-490e-9d27-4bceddd20152",
   "metadata": {},
   "outputs": [
    {
     "name": "stdout",
     "output_type": "stream",
     "text": [
      "CONTAINER ID   IMAGE     COMMAND   CREATED   STATUS    PORTS     NAMES\n"
     ]
    }
   ],
   "source": [
    "! docker ps"
   ]
  },
  {
   "cell_type": "code",
   "execution_count": 11,
   "id": "ae07ffae-56ee-437d-a4ab-a6ca4812c1b9",
   "metadata": {},
   "outputs": [],
   "source": [
    "#! mkdir /home/ec2-user/data/imagery"
   ]
  },
  {
   "cell_type": "code",
   "execution_count": 12,
   "id": "0c7db028-8589-476f-8492-6f71bbf9c08f",
   "metadata": {},
   "outputs": [
    {
     "name": "stdout",
     "output_type": "stream",
     "text": [
      "                              2020                              \n",
      "\n",
      "      January               February               March        \n",
      "Mo Tu We Th Fr Sa Su  Mo Tu We Th Fr Sa Su  Mo Tu We Th Fr Sa Su\n",
      "       1  2  3  4  5                  1  2                     1  \n",
      " 6  7  8  9 10 11 12   3  4  5  6  7  8  9   2  3  4  5  6  7 \u001b[42m 8\u001b[0m  \n",
      "13 14 15 16 17 18 19  10 11 12 13 14 15 16   9 10 11 12 13 14 15  \n",
      "20 21 22 23 24 25 26  17 18 19 20 21 \u001b[41m22\u001b[0m 23  16 17 18 19 20 21 22  \n",
      "27 28 29 30 31        24 25 26 27 28 29     23 24 25 26 27 28 29  \n",
      "\n",
      "       April                  May                   June        \n",
      "Mo Tu We Th Fr Sa Su  Mo Tu We Th Fr Sa Su  Mo Tu We Th Fr Sa Su\n",
      "       1  2  3  4  5               1  2  3  \u001b[41m 1\u001b[0m  2  3  4  5  6  7  \n",
      " 6 \u001b[42m 7\u001b[0m  8  9 10 11 12   4  5  6  7  8  9 10   8  9 10 \u001b[41m11\u001b[0m 12 13 14  \n",
      "13 14 15 16 \u001b[42m17\u001b[0m 18 19  11 12 13 14 15 16 17  15 \u001b[42m16\u001b[0m 17 18 19 20 21  \n",
      "20 21 \u001b[41m22\u001b[0m 23 24 25 26  18 19 20 21 22 23 24  22 23 24 25 26 27 28  \n",
      "27 28 29 30           25 26 \u001b[42m27\u001b[0m 28 29 30 31  29 30                 \n",
      "\n",
      "        July                 August              September      \n",
      "Mo Tu We Th Fr Sa Su  Mo Tu We Th Fr Sa Su  Mo Tu We Th Fr Sa Su\n",
      "       1  2  3  4  5                  1  2      1  2  3 \u001b[42m 4\u001b[0m  5  6  \n",
      " 6  7  8  9 10 \u001b[41m11\u001b[0m 12   3  4  5  6  7  8  9   7  8  9 10 11 12 13  \n",
      "13 14 15 \u001b[42m16\u001b[0m 17 18 19  10 11 12 13 14 15 16  \u001b[42m14\u001b[0m 15 16 17 18 \u001b[41m19\u001b[0m 20  \n",
      "20 \u001b[41m21\u001b[0m 22 23 24 25 26  17 18 19 20 21 22 23  21 22 23 \u001b[42m24\u001b[0m 25 26 27  \n",
      "27 28 29 30 \u001b[41m31\u001b[0m        24 \u001b[42m25\u001b[0m 26 27 28 29 \u001b[41m30\u001b[0m  28 \u001b[41m29\u001b[0m 30              \n",
      "\n",
      "      October               November              December      \n",
      "Mo Tu We Th Fr Sa Su  Mo Tu We Th Fr Sa Su  Mo Tu We Th Fr Sa Su\n",
      "          1  2  3 \u001b[42m 4\u001b[0m                     1      1  2  3  4  5  6  \n",
      " 5  6  7  8 \u001b[41m 9\u001b[0m 10 11   2 \u001b[42m 3\u001b[0m  4  5  6  7 \u001b[41m 8\u001b[0m   7 \u001b[41m 8\u001b[0m  9 10 11 12 13  \n",
      "12 13 14 15 16 17 18   9 10 11 12 13 14 15  14 15 16 17 18 19 20  \n",
      "19 20 21 22 23 24 25  16 17 18 19 20 21 22  21 22 23 24 25 26 27  \n",
      "26 27 28 \u001b[41m29\u001b[0m 30 31     23 24 25 26 27 \u001b[41m28\u001b[0m 29  \u001b[41m28\u001b[0m 29 30 31           \n",
      "\n",
      "\u001b[41msentinel-2b (1)\u001b[0m\n",
      "\u001b[42msentinel-2a (1)\u001b[0m\n",
      "28 total dates\n",
      "Found 28 products between 2020-01-01 and 2020-12-31 with less than 25 percent clouds in 0.6 seconds.\n",
      "Downloading Thumbnails...\n",
      "Downloading Images...\n",
      "[1 of 28]: Downloading to ./imagery/20201228_14TPP_00_R10m_TCI.tif\n",
      "[2 of 28]: Downloading to ./imagery/20201208_14TPP_00_R10m_TCI.tif\n",
      "[3 of 28]: Downloading to ./imagery/20201128_14TPP_00_R10m_TCI.tif\n",
      "[4 of 28]: Downloading to ./imagery/20201108_14TPP_00_R10m_TCI.tif\n",
      "[5 of 28]: Downloading to ./imagery/20201103_14TPP_00_R10m_TCI.tif\n",
      "[6 of 28]: Downloading to ./imagery/20201029_14TPP_00_R10m_TCI.tif\n",
      "[7 of 28]: Downloading to ./imagery/20201009_14TPP_00_R10m_TCI.tif\n",
      "[8 of 28]: Downloading to ./imagery/20201004_14TPP_00_R10m_TCI.tif\n",
      "[9 of 28]: Downloading to ./imagery/20200929_14TPP_00_R10m_TCI.tif\n",
      "[10 of 28]: Downloading to ./imagery/20200924_14TPP_00_R10m_TCI.tif\n",
      "[11 of 28]: Downloading to ./imagery/20200919_14TPP_00_R10m_TCI.tif\n",
      "[12 of 28]: Downloading to ./imagery/20200914_14TPP_01_R10m_TCI.tif\n",
      "[13 of 28]: Downloading to ./imagery/20200904_14TPP_00_R10m_TCI.tif\n",
      "[14 of 28]: Downloading to ./imagery/20200830_14TPP_00_R10m_TCI.tif\n",
      "[15 of 28]: Downloading to ./imagery/20200825_14TPP_00_R10m_TCI.tif\n",
      "[16 of 28]: Downloading to ./imagery/20200731_14TPP_00_R10m_TCI.tif\n",
      "[17 of 28]: Downloading to ./imagery/20200721_14TPP_00_R10m_TCI.tif\n",
      "[18 of 28]: Downloading to ./imagery/20200716_14TPP_00_R10m_TCI.tif\n",
      "[19 of 28]: Downloading to ./imagery/20200711_14TPP_00_R10m_TCI.tif\n",
      "[20 of 28]: Downloading to ./imagery/20200616_14TPP_00_R10m_TCI.tif\n",
      "[21 of 28]: Downloading to ./imagery/20200611_14TPP_00_R10m_TCI.tif\n",
      "[22 of 28]: Downloading to ./imagery/20200601_14TPP_00_R10m_TCI.tif\n",
      "[23 of 28]: Downloading to ./imagery/20200527_14TPP_00_R10m_TCI.tif\n",
      "[24 of 28]: Downloading to ./imagery/20200422_14TPP_00_R10m_TCI.tif\n",
      "[25 of 28]: Downloading to ./imagery/20200417_14TPP_00_R10m_TCI.tif\n",
      "[26 of 28]: Downloading to ./imagery/20200407_14TPP_00_R10m_TCI.tif\n",
      "[27 of 28]: Downloading to ./imagery/20200308_14TPP_00_R10m_TCI.tif\n",
      "[28 of 28]: Downloading to ./imagery/20200222_14TPP_00_R10m_TCI.tif\n",
      "334.4 MB Data Used\n"
     ]
    }
   ],
   "source": [
    "!docker run -v /home/ec2-user/data/imagery:/app/imagery -it smart/monet -y \\\n",
    "  43.49 -96.69  -c 25 -s 2020-01-01 -e 2020-12-31 -t -D --radius 10000"
   ]
  },
  {
   "cell_type": "code",
   "execution_count": 15,
   "id": "43986fe0-a8a5-4ee4-8918-9c398a4dd259",
   "metadata": {},
   "outputs": [
    {
     "name": "stdout",
     "output_type": "stream",
     "text": [
      "imagery\n"
     ]
    }
   ],
   "source": [
    "! ls /home/ec2-user/data"
   ]
  },
  {
   "cell_type": "code",
   "execution_count": 13,
   "id": "bf87ddbf-3185-4008-8acd-bdbc61545a11",
   "metadata": {},
   "outputs": [
    {
     "name": "stdout",
     "output_type": "stream",
     "text": [
      "usage: monet [-h] [-r RADIUS] [-a APIKEY] [-s START_DATE] [-e END_DATE]\n",
      "             [-c CLOUD_COVER] [-d DATA_COVERAGE] [-u URL] [-C COLLECTION]\n",
      "             [-o OUTPUT_DIR] [-D] [-t] [-P] [-p PROFILE] [-v] [-y] [--version]\n",
      "             latitude longitude\n",
      "\n",
      "positional arguments:\n",
      "  latitude              Latitude (DECIMAL, DD.DDDDDDD)\n",
      "  longitude             Longitude (DECIMAL, DD.DDDDDDD)\n",
      "\n",
      "options:\n",
      "  -h, --help            show this help message and exit\n",
      "  -r RADIUS, --radius RADIUS\n",
      "                        Bounding box radius (default: 1000 meters)\n",
      "  -a APIKEY, --api-key APIKEY\n",
      "                        x-api-key value that will be included in the request\n",
      "                        headers\n",
      "  -s START_DATE, --start-date START_DATE\n",
      "                        Start Date YYYY-MM-DD (default: 3 years ago)\n",
      "  -e END_DATE, --end-date END_DATE\n",
      "                        End Date YYYY-MM-DD (default: now)\n",
      "  -c CLOUD_COVER, --cloud-cover CLOUD_COVER\n",
      "                        Cloud cover (percent 0-100) default 10.0\n",
      "  -d DATA_COVERAGE, --data-coverage DATA_COVERAGE\n",
      "                        Data coverage, for Sentinel only (percent 0-100)\n",
      "                        default 80.0\n",
      "  -u URL, --url URL     STAC URL default: 'https://earth-\n",
      "                        search.aws.element84.com/v0'\n",
      "  -C COLLECTION, --collection COLLECTION\n",
      "                        STAC collection default: 'sentinel-s2-l2a-cogs'\n",
      "  -o OUTPUT_DIR, --output-dir OUTPUT_DIR\n",
      "                        Output Directory for saved files (default ./imagery/)\n",
      "  -D, --download        Download flag, default (False)\n",
      "  -t, --thumbnails      Store thumbnails for downloaded images in thumbnails\n",
      "                        directory\n",
      "  -P, --print-all       Print out all of the S3 files (default: limit to 10)\n",
      "  -p PROFILE, --profile PROFILE\n",
      "                        AWS environment profile (default: 'default')\n",
      "  -v, --verbose         Verbose output to stdout\n",
      "  -y, --yes             Force Yes to all stdin questions, useful when run in\n",
      "                        background\n",
      "  --version             show program's version number and exit\n"
     ]
    }
   ],
   "source": [
    "!docker run -v /home/ec2-user/data/imagery:/app/imagery -it smart/monet -h"
   ]
  },
  {
   "cell_type": "code",
   "execution_count": 14,
   "id": "f7863982-31a0-49ce-9787-e26f1dd9be4c",
   "metadata": {},
   "outputs": [
    {
     "name": "stdout",
     "output_type": "stream",
     "text": [
      "                              2020                              \n",
      "\n",
      "      January               February               March        \n",
      "Mo Tu We Th Fr Sa Su  Mo Tu We Th Fr Sa Su  Mo Tu We Th Fr Sa Su\n",
      "       1  2  3  4  5                  1  2                     1  \n",
      " 6  7  8  9 10 11 12   3  4  5  6  7  8  9   2  3  4  5  6  7 \u001b[41m 8\u001b[0m  \n",
      "13 14 15 16 17 18 19  10 11 12 13 14 15 16   9 10 11 12 13 14 15  \n",
      "20 21 22 23 24 25 26  17 18 19 20 21 \u001b[42m22\u001b[0m 23  16 17 18 19 20 21 22  \n",
      "27 28 29 30 31        24 25 26 27 28 29     23 24 25 26 27 28 29  \n",
      "\n",
      "       April                  May                   June        \n",
      "Mo Tu We Th Fr Sa Su  Mo Tu We Th Fr Sa Su  Mo Tu We Th Fr Sa Su\n",
      "       1  2  3  4  5               1  2  3  \u001b[42m 1\u001b[0m  2  3  4  5  6  7  \n",
      " 6 \u001b[41m 7\u001b[0m  8  9 10 11 12   4  5  6  7  8  9 10   8  9 10 \u001b[42m11\u001b[0m 12 13 14  \n",
      "13 14 15 16 \u001b[41m17\u001b[0m 18 19  11 12 13 14 15 16 17  15 \u001b[41m16\u001b[0m 17 18 19 20 21  \n",
      "20 21 \u001b[42m22\u001b[0m 23 24 25 26  18 19 20 21 22 23 24  22 23 24 25 26 27 28  \n",
      "27 28 29 30           25 26 \u001b[41m27\u001b[0m 28 29 30 31  29 30                 \n",
      "\n",
      "        July                 August              September      \n",
      "Mo Tu We Th Fr Sa Su  Mo Tu We Th Fr Sa Su  Mo Tu We Th Fr Sa Su\n",
      "       1  2  3  4  5                  1  2      1  2  3 \u001b[41m 4\u001b[0m  5  6  \n",
      " 6  7  8  9 10 \u001b[42m11\u001b[0m 12   3  4  5  6  7  8  9   7  8  9 10 11 12 13  \n",
      "13 14 15 \u001b[41m16\u001b[0m 17 18 19  10 11 12 13 14 15 16  \u001b[41m14\u001b[0m 15 16 17 18 \u001b[42m19\u001b[0m 20  \n",
      "20 \u001b[42m21\u001b[0m 22 23 24 25 26  17 18 19 20 21 22 23  21 22 23 \u001b[41m24\u001b[0m 25 26 27  \n",
      "27 28 29 30 \u001b[42m31\u001b[0m        24 \u001b[41m25\u001b[0m 26 27 28 29 \u001b[42m30\u001b[0m  28 \u001b[42m29\u001b[0m 30              \n",
      "\n",
      "      October               November              December      \n",
      "Mo Tu We Th Fr Sa Su  Mo Tu We Th Fr Sa Su  Mo Tu We Th Fr Sa Su\n",
      "          1  2  3 \u001b[41m 4\u001b[0m                     1      1  2  3  4  5  6  \n",
      " 5  6  7  8 \u001b[42m 9\u001b[0m 10 11   2 \u001b[41m 3\u001b[0m  4  5  6  7 \u001b[42m 8\u001b[0m   7 \u001b[42m 8\u001b[0m  9 10 11 12 13  \n",
      "12 13 14 15 16 17 18   9 10 11 12 13 14 15  14 15 16 17 18 19 20  \n",
      "19 20 21 22 23 24 25  16 17 18 19 20 21 22  21 22 23 24 25 26 27  \n",
      "26 27 28 \u001b[42m29\u001b[0m 30 31     23 24 25 26 27 \u001b[42m28\u001b[0m 29  \u001b[42m28\u001b[0m 29 30 31           \n",
      "\n",
      "\u001b[41msentinel-2a (1)\u001b[0m\n",
      "\u001b[42msentinel-2b (1)\u001b[0m\n",
      "28 total dates\n",
      "Found 28 products between 2020-01-01 and 2020-12-31 with less than 25 percent clouds in 0.6 seconds.\n"
     ]
    }
   ],
   "source": [
    "!docker run -v /home/ec2-user/data/imagery:/app/imagery -it smart/monet -y \\\n",
    "  43.49 -96.69  -c 25 -s 2020-01-01 -e 2020-12-31 -P --radius 10000"
   ]
  },
  {
   "cell_type": "code",
   "execution_count": 16,
   "id": "e3aba8cc-da5b-4346-89de-ede5f5254bd4",
   "metadata": {},
   "outputs": [
    {
     "name": "stdout",
     "output_type": "stream",
     "text": [
      "20200222_14TPP_00_R10m_TCI.tif\t20200904_14TPP_00_R10m_TCI.tif\n",
      "20200308_14TPP_00_R10m_TCI.tif\t20200914_14TPP_01_R10m_TCI.tif\n",
      "20200407_14TPP_00_R10m_TCI.tif\t20200919_14TPP_00_R10m_TCI.tif\n",
      "20200417_14TPP_00_R10m_TCI.tif\t20200924_14TPP_00_R10m_TCI.tif\n",
      "20200422_14TPP_00_R10m_TCI.tif\t20200929_14TPP_00_R10m_TCI.tif\n",
      "20200527_14TPP_00_R10m_TCI.tif\t20201004_14TPP_00_R10m_TCI.tif\n",
      "20200601_14TPP_00_R10m_TCI.tif\t20201009_14TPP_00_R10m_TCI.tif\n",
      "20200611_14TPP_00_R10m_TCI.tif\t20201029_14TPP_00_R10m_TCI.tif\n",
      "20200616_14TPP_00_R10m_TCI.tif\t20201103_14TPP_00_R10m_TCI.tif\n",
      "20200711_14TPP_00_R10m_TCI.tif\t20201108_14TPP_00_R10m_TCI.tif\n",
      "20200716_14TPP_00_R10m_TCI.tif\t20201128_14TPP_00_R10m_TCI.tif\n",
      "20200721_14TPP_00_R10m_TCI.tif\t20201208_14TPP_00_R10m_TCI.tif\n",
      "20200731_14TPP_00_R10m_TCI.tif\t20201228_14TPP_00_R10m_TCI.tif\n",
      "20200825_14TPP_00_R10m_TCI.tif\timagery.geojson\n",
      "20200830_14TPP_00_R10m_TCI.tif\tthumbnails\n"
     ]
    }
   ],
   "source": [
    "! ls /home/ec2-user/data/imagery/"
   ]
  },
  {
   "cell_type": "code",
   "execution_count": 17,
   "id": "eee65dfc-b548-45bc-9a8e-1dc867595c24",
   "metadata": {},
   "outputs": [],
   "source": [
    "#! cp /home/ec2-user/data/imagery/imagery.geojson /home/ec2-user/opt/the_libs/0_notebook_tests/"
   ]
  },
  {
   "cell_type": "code",
   "execution_count": null,
   "id": "695567c7-7aae-4728-a865-b4f725973568",
   "metadata": {},
   "outputs": [],
   "source": []
  }
 ],
 "metadata": {
  "kernelspec": {
   "display_name": "Python 3 (ipykernel)",
   "language": "python",
   "name": "python3"
  },
  "language_info": {
   "codemirror_mode": {
    "name": "ipython",
    "version": 3
   },
   "file_extension": ".py",
   "mimetype": "text/x-python",
   "name": "python",
   "nbconvert_exporter": "python",
   "pygments_lexer": "ipython3",
   "version": "3.11.5"
  }
 },
 "nbformat": 4,
 "nbformat_minor": 5
}
