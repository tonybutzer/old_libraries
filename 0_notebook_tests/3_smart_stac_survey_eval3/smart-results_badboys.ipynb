{
 "cells": [
  {
   "cell_type": "code",
   "execution_count": 1,
   "id": "2e44d96b-a81c-417f-98ea-6793880c10ce",
   "metadata": {},
   "outputs": [
    {
     "data": {
      "text/plain": [
       "<module 'stacLib' (<_frozen_importlib_external.NamespaceLoader object at 0x7f67c0023150>)>"
      ]
     },
     "execution_count": 1,
     "metadata": {},
     "output_type": "execute_result"
    }
   ],
   "source": [
    "import stacLib\n",
    "import importlib\n",
    "\n",
    "# make changes to example.py file\n",
    "\n",
    "importlib.reload(stacLib)\n"
   ]
  },
  {
   "cell_type": "code",
   "execution_count": 2,
   "id": "f578741c-16e1-4dd9-a4d6-4013e710128d",
   "metadata": {},
   "outputs": [],
   "source": [
    "from stacLib.smart_stac_search import Smartstac"
   ]
  },
  {
   "cell_type": "code",
   "execution_count": 3,
   "id": "7b2436cf-f45e-4976-9144-b2003141ab77",
   "metadata": {},
   "outputs": [],
   "source": [
    "def get_smart_key():\n",
    "    # Using readlines()\n",
    "    file1 = open('/home/ec2-user/.apikey', 'r')\n",
    "    Lines = file1.readlines()\n",
    "    for l in Lines:\n",
    "        if l.startswith('smart_api_key'):\n",
    "            my_key = l.split('=')[-1].strip()\n",
    "            return my_key"
   ]
  },
  {
   "cell_type": "code",
   "execution_count": 4,
   "id": "d3ce8ce3-b40a-43bf-aa70-8a0930dac630",
   "metadata": {},
   "outputs": [],
   "source": [
    "from pystac_client import Client\n",
    "apikey = get_smart_key()\n",
    "smart_stac = Client.open('https://api.smart-stac.com', headers={'x-api-key': apikey})\n",
    "my_links = smart_stac.get_links('child')"
   ]
  },
  {
   "cell_type": "code",
   "execution_count": 5,
   "id": "7a1851a8-bdb3-446f-b614-d9281d0eae9f",
   "metadata": {},
   "outputs": [
    {
     "name": "stdout",
     "output_type": "stream",
     "text": [
      "https://api.smart-stac.com ta1-s2-acc-3\n"
     ]
    }
   ],
   "source": [
    "s = Smartstac('ta1-s2-acc-3')"
   ]
  },
  {
   "cell_type": "code",
   "execution_count": 6,
   "id": "7b813b2c-f2e9-4802-839b-b919a6030064",
   "metadata": {},
   "outputs": [],
   "source": [
    "possible_collections = s.collections_list()"
   ]
  },
  {
   "cell_type": "code",
   "execution_count": 7,
   "id": "2551dd53-fb6e-48b1-8f00-af6d14a89bb3",
   "metadata": {},
   "outputs": [
    {
     "name": "stdout",
     "output_type": "stream",
     "text": [
      "ta1-dsm-ara-4\n",
      "ta1-wv-ara-4\n",
      "ta1-s2-ara-4\n",
      "ta1-pd-ara-4\n",
      "ta1-ls-ara-4\n"
     ]
    }
   ],
   "source": [
    "ara_collections = []\n",
    "for c in possible_collections:\n",
    "    if 'ara-4' in c:\n",
    "        print(c)\n",
    "        ara_collections.append(c)"
   ]
  },
  {
   "cell_type": "code",
   "execution_count": 8,
   "id": "c4a03bf2-22e3-4037-bbff-02f406605370",
   "metadata": {},
   "outputs": [
    {
     "name": "stdout",
     "output_type": "stream",
     "text": [
      "ta1-wv-acc-4\n",
      "ta1-ls-acc-4\n",
      "ta1-cc-acc-4\n",
      "ta1-10m-acc-4\n",
      "ta1-pd-acc-4\n",
      "ta1-mixedgsd-acc-4\n",
      "ta1-s1-acc-4\n",
      "ta1-s2-acc-4\n"
     ]
    }
   ],
   "source": [
    "acc_collections = []\n",
    "for c in possible_collections:\n",
    "    if 'acc-4' in c:\n",
    "        print(c)\n",
    "        acc_collections.append(c)"
   ]
  },
  {
   "cell_type": "code",
   "execution_count": 9,
   "id": "e530a393-76b7-4d67-b677-b55c88001d81",
   "metadata": {},
   "outputs": [
    {
     "name": "stdout",
     "output_type": "stream",
     "text": [
      "in_scope_regions/BR_S002.geojson 2014-01-01/2022-12-31 80\n",
      "2518 items found\n"
     ]
    }
   ],
   "source": [
    "start_year='2014'\n",
    "end_year='2022'\n",
    "date_range_text = f\"{start_year}-01-01/{end_year}-12-31\"\n",
    "cloud_cover_pct_max = '80'\n",
    "region = 'in_scope_regions/BR_S002.geojson'\n",
    "_assets = s.get_my_assets(region, date_range_text, cloud_cover_pct_max)"
   ]
  },
  {
   "cell_type": "code",
   "execution_count": 10,
   "id": "ad6d948c-00dd-424a-aa58-0ce38cf9c82e",
   "metadata": {},
   "outputs": [],
   "source": [
    "import os\n",
    "\n",
    "def get_files(path):\n",
    "    for file in os.listdir(path):\n",
    "        if os.path.isfile(os.path.join(path, file)):\n",
    "            yield file\n",
    "        "
   ]
  },
  {
   "cell_type": "code",
   "execution_count": 11,
   "id": "27c53c38-fcab-4704-9db2-66e8a75db58b",
   "metadata": {},
   "outputs": [
    {
     "name": "stdout",
     "output_type": "stream",
     "text": [
      "BR_S002.geojson\n",
      "CH_S001.geojson\n",
      "KR_S001.geojson\n",
      "NZ_S001.geojson\n"
     ]
    }
   ],
   "source": [
    "fl=[]\n",
    "for f in get_files('./in_scope_regions/'):\n",
    "    print(f)\n",
    "    fl.append(f)"
   ]
  },
  {
   "cell_type": "code",
   "execution_count": 12,
   "id": "f2b2ece6-13e6-4f1c-8ef1-5960a5913cf0",
   "metadata": {},
   "outputs": [],
   "source": [
    "def get_how_many(region, mycollection):\n",
    "    s = Smartstac(mycollection)\n",
    "    start_year='2014'\n",
    "    end_year='2022'\n",
    "    date_range_text = f\"{start_year}-01-01/{end_year}-12-31\"\n",
    "    cloud_cover_pct_max = '80'\n",
    "    region_dir = 'in_scope_regions'\n",
    "    fp_region = f'{region_dir}/{region}'\n",
    "    _assets = s.get_my_assets(fp_region, date_range_text, cloud_cover_pct_max)\n",
    "    return (len(_assets))"
   ]
  },
  {
   "cell_type": "code",
   "execution_count": 13,
   "id": "743e639f-469d-46aa-8bd3-543fa110d2b7",
   "metadata": {},
   "outputs": [
    {
     "name": "stdout",
     "output_type": "stream",
     "text": [
      "https://api.smart-stac.com ta1-ls-ara-4\n",
      "in_scope_regions/KR_S001.geojson 2021-01-17/2021-02-10 99\n",
      "8 items found\n"
     ]
    }
   ],
   "source": [
    "mycollection='ta1-ls-ara-4'\n",
    "s = Smartstac(mycollection)\n",
    "\n",
    "start_year='2021'\n",
    "end_year='2021'\n",
    "date_range_text = f\"{start_year}-01-17/{end_year}-02-10\"\n",
    "cloud_cover_pct_max = '99'\n",
    "region = 'in_scope_regions/KR_S001.geojson'\n",
    "_assets = s.get_my_assets(region, date_range_text, cloud_cover_pct_max)"
   ]
  },
  {
   "cell_type": "code",
   "execution_count": 14,
   "id": "c4f6616f-1af1-498f-9658-9cea48b380e1",
   "metadata": {},
   "outputs": [
    {
     "name": "stdout",
     "output_type": "stream",
     "text": [
      "LC08_L1TP_115035_20210203_20210303_02_T1_ARA\n",
      "0.45\n",
      "LC08_L1TP_115034_20210203_20210303_02_T1_ARA\n",
      "1.53\n",
      "LC08_L1TP_115033_20210203_20210303_02_T1_ARA\n",
      "1.34\n",
      "LC08_L1TP_114035_20210127_20210305_02_T1_ARA\n",
      "35.07\n",
      "LC08_L1TP_114034_20210127_20210305_02_T1_ARA\n",
      "41.21\n",
      "LC08_L1TP_115035_20210118_20210306_02_T1_ARA\n",
      "85.29\n",
      "LC08_L1TP_115034_20210118_20210306_02_T1_ARA\n",
      "93.98\n",
      "LC08_L1TP_115033_20210118_20210306_02_T1_ARA\n",
      "81.75\n"
     ]
    }
   ],
   "source": [
    "for a in _assets:\n",
    "    print(a['id'])\n",
    "    print(a['properties']['eo:cloud_cover'])"
   ]
  },
  {
   "cell_type": "code",
   "execution_count": 17,
   "id": "607b7c4f-57e4-4b11-806f-ff55d0e48a3d",
   "metadata": {},
   "outputs": [
    {
     "name": "stdout",
     "output_type": "stream",
     "text": [
      "LC08_L1TP_115035_20210203_20210303_02_T1_ARA\n",
      "s3://smart-data-ara/ta-1/ta1-ls-ara-4/52/S/CE/2021/02/03/LC08_L1TP_115035_20210203_20210303_02_T1_ARA/LC08_L1TP_115035_20210203_20210303_02_T1_ARA_B03.tif\n",
      "LC08_L1TP_115034_20210203_20210303_02_T1_ARA\n",
      "s3://smart-data-ara/ta-1/ta1-ls-ara-4/52/S/DG/2021/02/03/LC08_L1TP_115034_20210203_20210303_02_T1_ARA/LC08_L1TP_115034_20210203_20210303_02_T1_ARA_B03.tif\n",
      "LC08_L1TP_115033_20210203_20210303_02_T1_ARA\n",
      "s3://smart-data-ara/ta-1/ta1-ls-ara-4/52/S/DJ/2021/02/03/LC08_L1TP_115033_20210203_20210303_02_T1_ARA/LC08_L1TP_115033_20210203_20210303_02_T1_ARA_B03.tif\n",
      "LC08_L1TP_114035_20210127_20210305_02_T1_ARA\n",
      "s3://smart-data-ara/ta-1/ta1-ls-ara-4/52/S/EE/2021/01/27/LC08_L1TP_114035_20210127_20210305_02_T1_ARA/LC08_L1TP_114035_20210127_20210305_02_T1_ARA_B03.tif\n",
      "LC08_L1TP_114034_20210127_20210305_02_T1_ARA\n",
      "s3://smart-data-ara/ta-1/ta1-ls-ara-4/52/S/EG/2021/01/27/LC08_L1TP_114034_20210127_20210305_02_T1_ARA/LC08_L1TP_114034_20210127_20210305_02_T1_ARA_B03.tif\n",
      "LC08_L1TP_115035_20210118_20210306_02_T1_ARA\n",
      "s3://smart-data-ara/ta-1/ta1-ls-ara-4/52/S/CE/2021/01/18/LC08_L1TP_115035_20210118_20210306_02_T1_ARA/LC08_L1TP_115035_20210118_20210306_02_T1_ARA_B03.tif\n",
      "LC08_L1TP_115034_20210118_20210306_02_T1_ARA\n",
      "s3://smart-data-ara/ta-1/ta1-ls-ara-4/52/S/DG/2021/01/18/LC08_L1TP_115034_20210118_20210306_02_T1_ARA/LC08_L1TP_115034_20210118_20210306_02_T1_ARA_B03.tif\n",
      "LC08_L1TP_115033_20210118_20210306_02_T1_ARA\n",
      "s3://smart-data-ara/ta-1/ta1-ls-ara-4/52/S/DJ/2021/01/18/LC08_L1TP_115033_20210118_20210306_02_T1_ARA/LC08_L1TP_115033_20210118_20210306_02_T1_ARA_B03.tif\n"
     ]
    }
   ],
   "source": [
    "for a in _assets:\n",
    "    print(a['id'])\n",
    "    print(a['assets']['B03']['href'])"
   ]
  },
  {
   "cell_type": "code",
   "execution_count": null,
   "id": "a73fc7f6-152a-489b-b0ff-c79827960ba2",
   "metadata": {},
   "outputs": [],
   "source": []
  }
 ],
 "metadata": {
  "kernelspec": {
   "display_name": "Python 3 (ipykernel)",
   "language": "python",
   "name": "python3"
  },
  "language_info": {
   "codemirror_mode": {
    "name": "ipython",
    "version": 3
   },
   "file_extension": ".py",
   "mimetype": "text/x-python",
   "name": "python",
   "nbconvert_exporter": "python",
   "pygments_lexer": "ipython3",
   "version": "3.11.6"
  }
 },
 "nbformat": 4,
 "nbformat_minor": 5
}
