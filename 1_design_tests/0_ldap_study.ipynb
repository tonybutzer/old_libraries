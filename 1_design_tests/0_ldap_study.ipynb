{
 "cells": [
  {
   "cell_type": "markdown",
   "id": "f1fd9b4a-a069-4a69-acc4-b3f0d0bcf1ec",
   "metadata": {},
   "source": [
    "# https://www.thegeekstuff.com/2015/01/openldap-linux/"
   ]
  },
  {
   "cell_type": "markdown",
   "id": "0e1e160a-784b-498a-b968-d400c732d260",
   "metadata": {},
   "source": [
    "# PLAN B STARTS HERE"
   ]
  },
  {
   "cell_type": "code",
   "execution_count": 22,
   "id": "fa6c8974-5f61-4d8e-bad7-54f83a1cc10d",
   "metadata": {},
   "outputs": [
    {
     "name": "stdout",
     "output_type": "stream",
     "text": [
      "Loaded plugins: extras_suggestions, langpacks, priorities, update-motd\n",
      "amzn2-core                                               | 3.6 kB     00:00     \n",
      "257 packages excluded due to repository priority protections\n",
      "Package openldap-clients-2.4.44-25.amzn2.0.7.x86_64 already installed and latest version\n",
      "Package openldap-2.4.44-25.amzn2.0.7.x86_64 already installed and latest version\n",
      "Package openldap-servers-2.4.44-25.amzn2.0.7.x86_64 already installed and latest version\n",
      "Resolving Dependencies\n",
      "--> Running transaction check\n",
      "---> Package openldap-devel.x86_64 0:2.4.44-25.amzn2.0.7 will be installed\n",
      "--> Processing Dependency: cyrus-sasl-devel(x86-64) for package: openldap-devel-2.4.44-25.amzn2.0.7.x86_64\n",
      "---> Package openldap-servers-sql.x86_64 0:2.4.44-25.amzn2.0.7 will be installed\n",
      "--> Processing Dependency: libodbc.so.2()(64bit) for package: openldap-servers-sql-2.4.44-25.amzn2.0.7.x86_64\n",
      "--> Running transaction check\n",
      "---> Package cyrus-sasl-devel.x86_64 0:2.1.26-24.amzn2 will be installed\n",
      "--> Processing Dependency: cyrus-sasl(x86-64) = 2.1.26-24.amzn2 for package: cyrus-sasl-devel-2.1.26-24.amzn2.x86_64\n",
      "---> Package unixODBC.x86_64 0:2.3.1-14.amzn2 will be installed\n",
      "--> Running transaction check\n",
      "---> Package cyrus-sasl.x86_64 0:2.1.26-24.amzn2 will be installed\n",
      "--> Finished Dependency Resolution\n",
      "--> Finding unneeded leftover dependencies\n",
      "Found and removing 0 unneeded dependencies\n",
      "\n",
      "Dependencies Resolved\n",
      "\n",
      "================================================================================\n",
      " Package                 Arch      Version                  Repository     Size\n",
      "================================================================================\n",
      "Installing:\n",
      " openldap-devel          x86_64    2.4.44-25.amzn2.0.7      amzn2-core    806 k\n",
      " openldap-servers-sql    x86_64    2.4.44-25.amzn2.0.7      amzn2-core    153 k\n",
      "Installing for dependencies:\n",
      " cyrus-sasl              x86_64    2.1.26-24.amzn2          amzn2-core     86 k\n",
      " cyrus-sasl-devel        x86_64    2.1.26-24.amzn2          amzn2-core    310 k\n",
      " unixODBC                x86_64    2.3.1-14.amzn2           amzn2-core    418 k\n",
      "\n",
      "Transaction Summary\n",
      "================================================================================\n",
      "Install  2 Packages (+3 Dependent packages)\n",
      "\n",
      "Total download size: 1.7 M\n",
      "Installed size: 6.3 M\n",
      "Downloading packages:\n",
      "(1/5): cyrus-sasl-2.1.26-24.amzn2.x86_64.rpm               |  86 kB   00:00     \n",
      "(2/5): cyrus-sasl-devel-2.1.26-24.amzn2.x86_64.rpm         | 310 kB   00:00     \n",
      "(3/5): openldap-devel-2.4.44-25.amzn2.0.7.x86_64.rpm       | 806 kB   00:00     \n",
      "(4/5): unixODBC-2.3.1-14.amzn2.x86_64.rpm                  | 418 kB   00:00     \n",
      "(5/5): openldap-servers-sql-2.4.44-25.amzn2.0.7.x86_64.rpm | 153 kB   00:00     \n",
      "--------------------------------------------------------------------------------\n",
      "Total                                              5.0 MB/s | 1.7 MB  00:00     \n",
      "Running transaction check\n",
      "Running transaction test\n",
      "Transaction test succeeded\n",
      "Running transaction\n",
      "  Installing : unixODBC-2.3.1-14.amzn2.x86_64                               1/5 \n",
      "  Installing : cyrus-sasl-2.1.26-24.amzn2.x86_64                            2/5 \n",
      "  Installing : cyrus-sasl-devel-2.1.26-24.amzn2.x86_64                      3/5 \n",
      "  Installing : openldap-devel-2.4.44-25.amzn2.0.7.x86_64                    4/5 \n",
      "  Installing : openldap-servers-sql-2.4.44-25.amzn2.0.7.x86_64              5/5 \n",
      "  Verifying  : cyrus-sasl-devel-2.1.26-24.amzn2.x86_64                      1/5 \n",
      "  Verifying  : openldap-devel-2.4.44-25.amzn2.0.7.x86_64                    2/5 \n",
      "  Verifying  : openldap-servers-sql-2.4.44-25.amzn2.0.7.x86_64              3/5 \n",
      "  Verifying  : cyrus-sasl-2.1.26-24.amzn2.x86_64                            4/5 \n",
      "  Verifying  : unixODBC-2.3.1-14.amzn2.x86_64                               5/5 \n",
      "\n",
      "Installed:\n",
      "  openldap-devel.x86_64 0:2.4.44-25.amzn2.0.7                                   \n",
      "  openldap-servers-sql.x86_64 0:2.4.44-25.amzn2.0.7                             \n",
      "\n",
      "Dependency Installed:\n",
      "  cyrus-sasl.x86_64 0:2.1.26-24.amzn2 cyrus-sasl-devel.x86_64 0:2.1.26-24.amzn2\n",
      "  unixODBC.x86_64 0:2.3.1-14.amzn2   \n",
      "\n",
      "Complete!\n"
     ]
    }
   ],
   "source": [
    "! sudo yum install -y openldap*"
   ]
  },
  {
   "cell_type": "code",
   "execution_count": 23,
   "id": "353d871b-7e88-45b5-b067-ef9b3218e3a9",
   "metadata": {},
   "outputs": [
    {
     "name": "stdout",
     "output_type": "stream",
     "text": [
      "Job for slapd.service failed because the control process exited with error code. See \"systemctl status slapd.service\" and \"journalctl -xe\" for details.\n"
     ]
    }
   ],
   "source": [
    "! sudo systemctl start slapd"
   ]
  },
  {
   "cell_type": "code",
   "execution_count": 3,
   "id": "27dc7337-986b-470c-8f28-debebb8fff6a",
   "metadata": {},
   "outputs": [
    {
     "name": "stdout",
     "output_type": "stream",
     "text": [
      "Loaded plugins: extras_suggestions, langpacks, priorities, update-motd\n",
      "amzn2-core                                               | 3.6 kB     00:00     \n",
      "257 packages excluded due to repository priority protections\n",
      "Package openldap-2.4.44-25.amzn2.0.7.x86_64 already installed and latest version\n",
      "Resolving Dependencies\n",
      "--> Running transaction check\n",
      "---> Package openldap-clients.x86_64 0:2.4.44-25.amzn2.0.7 will be installed\n",
      "---> Package openldap-servers.x86_64 0:2.4.44-25.amzn2.0.7 will be installed\n",
      "--> Processing Dependency: libltdl.so.7()(64bit) for package: openldap-servers-2.4.44-25.amzn2.0.7.x86_64\n",
      "--> Running transaction check\n",
      "---> Package libtool-ltdl.x86_64 0:2.4.2-22.2.amzn2.0.2 will be installed\n",
      "--> Finished Dependency Resolution\n",
      "--> Finding unneeded leftover dependencies\n",
      "Found and removing 0 unneeded dependencies\n",
      "\n",
      "Dependencies Resolved\n",
      "\n",
      "================================================================================\n",
      " Package              Arch       Version                   Repository      Size\n",
      "================================================================================\n",
      "Installing:\n",
      " openldap-clients     x86_64     2.4.44-25.amzn2.0.7       amzn2-core     192 k\n",
      " openldap-servers     x86_64     2.4.44-25.amzn2.0.7       amzn2-core     2.2 M\n",
      "Installing for dependencies:\n",
      " libtool-ltdl         x86_64     2.4.2-22.2.amzn2.0.2      amzn2-core      49 k\n",
      "\n",
      "Transaction Summary\n",
      "================================================================================\n",
      "Install  2 Packages (+1 Dependent package)\n",
      "\n",
      "Total download size: 2.4 M\n",
      "Installed size: 5.6 M\n",
      "Downloading packages:\n",
      "(1/3): libtool-ltdl-2.4.2-22.2.amzn2.0.2.x86_64.rpm        |  49 kB   00:00     \n",
      "(2/3): openldap-clients-2.4.44-25.amzn2.0.7.x86_64.rpm     | 192 kB   00:00     \n",
      "(3/3): openldap-servers-2.4.44-25.amzn2.0.7.x86_64.rpm     | 2.2 MB   00:00     \n",
      "--------------------------------------------------------------------------------\n",
      "Total                                              4.7 MB/s | 2.4 MB  00:00     \n",
      "Running transaction check\n",
      "Running transaction test\n",
      "Transaction test succeeded\n",
      "Running transaction\n",
      "  Installing : libtool-ltdl-2.4.2-22.2.amzn2.0.2.x86_64                     1/3 \n",
      "  Installing : openldap-servers-2.4.44-25.amzn2.0.7.x86_64                  2/3 \n",
      "  Installing : openldap-clients-2.4.44-25.amzn2.0.7.x86_64                  3/3 \n",
      "  Verifying  : libtool-ltdl-2.4.2-22.2.amzn2.0.2.x86_64                     1/3 \n",
      "  Verifying  : openldap-clients-2.4.44-25.amzn2.0.7.x86_64                  2/3 \n",
      "  Verifying  : openldap-servers-2.4.44-25.amzn2.0.7.x86_64                  3/3 \n",
      "\n",
      "Installed:\n",
      "  openldap-clients.x86_64 0:2.4.44-25.amzn2.0.7                                 \n",
      "  openldap-servers.x86_64 0:2.4.44-25.amzn2.0.7                                 \n",
      "\n",
      "Dependency Installed:\n",
      "  libtool-ltdl.x86_64 0:2.4.2-22.2.amzn2.0.2                                    \n",
      "\n",
      "Complete!\n"
     ]
    }
   ],
   "source": [
    "! sudo yum install -y openldap openldap-clients openldap-servers"
   ]
  },
  {
   "cell_type": "markdown",
   "id": "9e25c2a5-f172-4dec-93f9-1b23b361ba5d",
   "metadata": {},
   "source": [
    "You should install the following three packages:\n",
    "\n",
    "    openldap-servers – This is the main LDAP server\n",
    "    openldap-clients – This contains all required LDAP client utilities\n",
    "    openldap – This packages contains the LDAP support libraries\n"
   ]
  },
  {
   "cell_type": "code",
   "execution_count": 6,
   "id": "0a1afac8-0d6b-4987-b8b1-d1fb225c63cf",
   "metadata": {},
   "outputs": [
    {
     "name": "stdout",
     "output_type": "stream",
     "text": [
      "# AUTO-GENERATED FILE - DO NOT EDIT!! Use ldapmodify.\n",
      "# CRC32 f67a2549\n",
      "dn: cn=config\n",
      "objectClass: olcGlobal\n",
      "cn: config\n",
      "olcArgsFile: /var/run/openldap/slapd.args\n",
      "olcPidFile: /var/run/openldap/slapd.pid\n",
      "olcTLSCACertificatePath: /etc/openldap/certs\n",
      "olcTLSCertificateFile: \"OpenLDAP Server\"\n",
      "olcTLSCertificateKeyFile: /etc/openldap/certs/password\n",
      "structuralObjectClass: olcGlobal\n",
      "entryUUID: 9cb073a8-0256-103e-9f62-4311c97580f0\n",
      "creatorsName: cn=config\n",
      "createTimestamp: 20231018230545Z\n",
      "entryCSN: 20231018230545.031284Z#000000#000#000000\n",
      "modifiersName: cn=config\n",
      "modifyTimestamp: 20231018230545Z\n"
     ]
    }
   ],
   "source": [
    "# config.ldif\n",
    "! sudo cat /etc/openldap/slapd.d/cn=config.ldif "
   ]
  },
  {
   "cell_type": "markdown",
   "id": "b52b7f0c-cb4e-4191-b8d8-363fadf03099",
   "metadata": {},
   "source": [
    " >the LDAP Input Format (LDIF), a specific format that allows you to enter information in to the LDAP directory."
   ]
  },
  {
   "cell_type": "markdown",
   "id": "42855dde-9993-4085-b1d0-1cc368867540",
   "metadata": {},
   "source": [
    "olcDatabase{2}bdb.ldif – You can also modify the settings like number of connections the server can support, timeouts and other database settings under the file /etc/openldap/slapd.d/cn=config/olcDatabase{2}bdb.ldif."
   ]
  },
  {
   "cell_type": "code",
   "execution_count": 9,
   "id": "b567e647-019a-4143-9b9b-7e01f48f081d",
   "metadata": {},
   "outputs": [
    {
     "name": "stdout",
     "output_type": "stream",
     "text": [
      "cat: /etc/openldap/slapd.d/cn=config/olcDatabase2bdb.ldif: No such file or directory\n"
     ]
    }
   ],
   "source": [
    "! sudo cat '/etc/openldap/slapd.d/cn=config/olcDatabase{2}bdb.ldif'"
   ]
  },
  {
   "cell_type": "code",
   "execution_count": 10,
   "id": "670afed1-29c3-4334-a108-d3efe5d6c472",
   "metadata": {},
   "outputs": [
    {
     "name": "stdout",
     "output_type": "stream",
     "text": [
      "total 20K\n",
      "drwxr-x--- 3 ldap ldap 182 Oct 18 23:05 .\n",
      "drwxr-x--- 3 ldap ldap  45 Oct 18 23:05 ..\n",
      "drwxr-x--- 2 ldap ldap  29 Oct 18 23:05 cn=schema\n",
      "-rw------- 1 ldap ldap 378 Oct 18 23:05 cn=schema.ldif\n",
      "-rw------- 1 ldap ldap 513 Oct 18 23:05 olcDatabase={0}config.ldif\n",
      "-rw------- 1 ldap ldap 443 Oct 18 23:05 olcDatabase={-1}frontend.ldif\n",
      "-rw------- 1 ldap ldap 562 Oct 18 23:05 olcDatabase={1}monitor.ldif\n",
      "-rw------- 1 ldap ldap 609 Oct 18 23:05 olcDatabase={2}hdb.ldif\n"
     ]
    }
   ],
   "source": [
    "! sudo ls -lah /etc/openldap/slapd.d/cn=config/"
   ]
  },
  {
   "cell_type": "code",
   "execution_count": 20,
   "id": "794cd572-cdf1-42bb-b108-17e385c8d8b4",
   "metadata": {},
   "outputs": [
    {
     "name": "stdout",
     "output_type": "stream",
     "text": [
      "olcRootDN: cn=Manager,dc=my-domain,dc=com\n"
     ]
    }
   ],
   "source": [
    "# before edit\n",
    "! sudo grep olcRootDN /etc/openldap/slapd.d/cn=config/olcDatabase\\=\\{2\\}hdb.ldif"
   ]
  },
  {
   "cell_type": "code",
   "execution_count": 21,
   "id": "17be611a-327c-42b9-9042-5789d14ff575",
   "metadata": {},
   "outputs": [
    {
     "name": "stdout",
     "output_type": "stream",
     "text": [
      "olcRootDN: cn=brandon,dc=pc-domain,dc=science\n"
     ]
    }
   ],
   "source": [
    "# after vi edit brandon pc-domain science\n",
    "! sudo grep olcRootDN /etc/openldap/slapd.d/cn=config/olcDatabase\\=\\{2\\}hdb.ldif"
   ]
  },
  {
   "cell_type": "markdown",
   "id": "e3a94299-ac08-4ad0-9131-43fa7c8e2dbf",
   "metadata": {},
   "source": [
    "# Create olcRootPW Root Password\n",
    "example\n",
    "\n",
    "# slappasswd\n",
    "New password: SecretLDAPRootPass2015\n",
    "Re-enter new password: SecretLDAPRootPass2015\n",
    "{SSHA}1pgok6qWn24lpBkVreTDboTr81rg4QC6\n",
    "\n",
    "## yaml\n",
    "{SSHA}2A25fLo9qqQYlA5fpnG4PzQNswsR803U"
   ]
  },
  {
   "cell_type": "markdown",
   "id": "344b7240-402c-4ec2-b090-022552f1bc48",
   "metadata": {},
   "source": [
    "# example only\n",
    "```bash\n",
    "# vi /etc/openldap/slapd.d/cn=config.ldif\n",
    "olcRootPW: {SSHA}2A25fLo9qqQYlA5fpnG4PzQNswsR803U\n",
    "\n",
    "\n",
    "{SSHA}1pgok6qWn24lpBkVreTDboTr81rg4QC6\n",
    "```"
   ]
  },
  {
   "cell_type": "markdown",
   "id": "1983b633-7aba-4f4f-bd64-eaab54db9b5d",
   "metadata": {},
   "source": [
    "# FreeIPA - \n",
    "\n",
    "- about now all this rediculous ldif stuff -\n",
    "- LLDAP in a container\n",
    "- more study needed"
   ]
  },
  {
   "cell_type": "markdown",
   "id": "9cbf9973-eeae-4583-96d9-5a77f529a0e9",
   "metadata": {},
   "source": [
    "# References\n",
    "\n",
    "- https://www.linux.com/training-tutorials/managing-ldap-command-line-linux/\n",
    "- https://www.redhat.com/sysadmin/linux-active-directory\n",
    "- https://www.alitajran.com/import-ad-users-from-csv-powershell/\n",
    "- https://therubyist.org/2020/04/03/ldap-in-containers/\n",
    "- https://posts.specterops.io/an-introduction-to-manual-active-directory-querying-with-dsquery-and-ldapsearch-84943c13d7eb\n",
    "- https://aws.amazon.com/blogs/opensource/managing-aws-parallelcluster-ssh-users-with-openldap/"
   ]
  },
  {
   "cell_type": "code",
   "execution_count": null,
   "id": "7d46bdc9-a079-44aa-9780-2ec59fffa590",
   "metadata": {},
   "outputs": [],
   "source": []
  },
  {
   "cell_type": "markdown",
   "id": "66c9482a-15be-4746-91ca-6a3f81f50bf3",
   "metadata": {},
   "source": [
    "# REF Continued\n",
    "- https://www.google.com/search?channel=fenc&client=firefox-b-1-d&q=using+ldap+on+linux+tutorial#fpstate=ive&vld=cid:dc196389,vid:GAX29EixSVw,st:0\n",
    "- https://www.youtube.com/watch?v=WbKR3MzVGRs\n",
    "- https://ubuntu.com/server/docs/service-ldap"
   ]
  },
  {
   "cell_type": "markdown",
   "id": "15c6f328-a602-47f1-a0ad-f93c6e77f0d0",
   "metadata": {},
   "source": [
    "In the context of LDAP (Lightweight Directory Access Protocol), the terms \"cn,\" \"dn,\" and \"dc\" are commonly used to refer to specific attributes or components:\n",
    "\n",
    "1. **cn**:\n",
    "    - **Common Name**: This attribute is used to specify the name of an LDAP entry, such as a user or an object. It's often used to identify the entry within a directory.\n",
    "\n",
    "2. **dn**:\n",
    "    - **Distinguished Name**: This is a unique identifier for an entry in the LDAP directory. It represents the full path from the entry to the root of the directory tree. The DN provides a way to uniquely identify an entry.\n",
    "\n",
    "3. **dc**:\n",
    "    - **Domain Component**: This is an attribute used to define the components of a domain name within the LDAP directory. For example, in the domain name \"example.com\", \"dc=example\" and \"dc=com\" are domain components. They help in structuring the directory hierarchy.\n",
    "\n",
    "   For example, if you have an LDAP entry for a user with the Common Name (cn) \"John Doe\" in the organization \"example.com\", the Distinguished Name (dn) might look like:\n",
    "\n",
    "   ```\n",
    "   cn=John Doe,dc=example,dc=com\n",
    "   ```\n",
    "\n",
    "   This DN indicates that the entry \"John Doe\" is located in the \"example.com\" domain within the LDAP directory.\n",
    "\n",
    "These components are crucial in LDAP because they define the structure and organization of the directory. The Distinguished Name (DN) is particularly important as it provides a unique identifier for each entry in the directory, allowing for precise retrieval and manipulation of information."
   ]
  },
  {
   "cell_type": "code",
   "execution_count": null,
   "id": "fa532b89-673b-4166-8c69-4a1824bf3d3f",
   "metadata": {},
   "outputs": [],
   "source": []
  }
 ],
 "metadata": {
  "kernelspec": {
   "display_name": "Python 3 (ipykernel)",
   "language": "python",
   "name": "python3"
  },
  "language_info": {
   "codemirror_mode": {
    "name": "ipython",
    "version": 3
   },
   "file_extension": ".py",
   "mimetype": "text/x-python",
   "name": "python",
   "nbconvert_exporter": "python",
   "pygments_lexer": "ipython3",
   "version": "3.11.6"
  }
 },
 "nbformat": 4,
 "nbformat_minor": 5
}
